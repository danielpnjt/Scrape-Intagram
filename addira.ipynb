{
 "cells": [
  {
   "cell_type": "code",
   "execution_count": 90,
   "metadata": {},
   "outputs": [],
   "source": [
    "from selenium import webdriver\n",
    "from bs4 import BeautifulSoup as bs\n",
    "import time\n",
    "import re\n",
    "from urllib.request import urlopen\n",
    "import json\n",
    "from pandas.io.json import json_normalize\n",
    "import pandas as pd, numpy as np\n",
    "from selenium import webdriver\n",
    "from selenium.webdriver.common.keys import Keys\n",
    "from selenium.webdriver.support import expected_conditions as EC\n",
    "from selenium.webdriver.common.by import By\n",
    "from selenium.webdriver.support.wait import WebDriverWait"
   ]
  },
  {
   "cell_type": "code",
   "execution_count": 91,
   "metadata": {},
   "outputs": [],
   "source": [
    "driver = webdriver.Chrome('C:/Users/daniel/chromedriver.exe')\n",
    "\n",
    "#open the webpage\n",
    "driver.get(\"http://www.instagram.com\")\n",
    "\n",
    "#target username\n",
    "username = WebDriverWait(driver, 10).until(EC.element_to_be_clickable((By.CSS_SELECTOR, \"input[name='username']\")))\n",
    "password = WebDriverWait(driver, 10).until(EC.element_to_be_clickable((By.CSS_SELECTOR, \"input[name='password']\")))\n",
    "\n",
    "#enter username and password\n",
    "username.clear()\n",
    "username.send_keys(\"@username\")\n",
    "password.clear()\n",
    "password.send_keys(\"password\")\n",
    "\n",
    "#target the login button and click it\n",
    "button = WebDriverWait(driver, 2).until(EC.element_to_be_clickable((By.CSS_SELECTOR, \"button[type='submit']\"))).click()"
   ]
  },
  {
   "cell_type": "code",
   "execution_count": 92,
   "metadata": {},
   "outputs": [],
   "source": [
    "#target the search input field\n",
    "searchbox = WebDriverWait(driver, 10).until(EC.element_to_be_clickable((By.XPATH, \"//input[@placeholder='Search']\")))\n",
    "searchbox.clear()\n",
    "\n",
    "#search for the hashtag cat\n",
    "keyword = \"#IndonesiainJapan\"\n",
    "searchbox.send_keys(keyword)\n",
    "\n",
    "driver.get(\"http://www.instagram.com/explore/tags/IndonesiainJapan/\")\n",
    "\n",
    "#FIXING THE DOUBLE ENTER\n",
    "#time.sleep(5) # Wait for 5 seconds\n",
    "#my_link = WebDriverWait(driver, 10).until(EC.element_to_be_clickable((By.XPATH, \"//a[contains(@href, '/\" + keyword[1:] + \"/')]\")))\n",
    "#my_link.click()"
   ]
  },
  {
   "cell_type": "code",
   "execution_count": 93,
   "metadata": {},
   "outputs": [],
   "source": [
    "n_scrolls = 1\n",
    "scrolls_to = 20\n",
    "anchors = []\n",
    "while n_scrolls != scrolls_to:\n",
    "    driver.get(\"http://www.instagram.com/explore/tags/IndonesiainJapan/\")\n",
    "    for j in range(0, n_scrolls):\n",
    "        driver.execute_script(\"window.scrollTo(0, document.body.scrollHeight);\")\n",
    "        time.sleep(5)\n",
    "    p = driver.find_elements_by_xpath('//div[@class=\"v1Nh3 kIKUG  _bz0w\"]')\n",
    "    for e in p:\n",
    "        link = e.find_element_by_xpath('.//a').get_attribute(\"href\")\n",
    "        anchors.append(link)\n",
    "    n_scrolls = n_scrolls+1"
   ]
  },
  {
   "cell_type": "code",
   "execution_count": 72,
   "metadata": {},
   "outputs": [],
   "source": [
    "# coba 1\n",
    "#anchors = []\n",
    "#p = driver.find_elements_by_xpath('//div[@class=\"v1Nh3 kIKUG  _bz0w\"]')\n",
    "#for e in p:\n",
    "#    link = e.find_element_by_xpath('.//a').get_attribute(\"href\")\n",
    "#    anchors.append(link)"
   ]
  },
  {
   "cell_type": "code",
   "execution_count": 94,
   "metadata": {},
   "outputs": [
    {
     "data": {
      "text/plain": [
       "834"
      ]
     },
     "execution_count": 94,
     "metadata": {},
     "output_type": "execute_result"
    }
   ],
   "source": [
    "len(anchors)"
   ]
  },
  {
   "cell_type": "code",
   "execution_count": 97,
   "metadata": {},
   "outputs": [],
   "source": [
    "import numpy as np\n",
    "x = np.array(anchors)\n",
    "anchors = np.unique(x)"
   ]
  },
  {
   "cell_type": "code",
   "execution_count": 46,
   "metadata": {},
   "outputs": [],
   "source": [
    "# coba 2\n",
    "#anchors = driver.find_elements_by_tag_name('a')\n",
    "#anchors = [a.get_attribute('href') for a in anchors]\n",
    "#narrow down all links to image links only\n",
    "#anchors = [a for a in anchors if str(a).startswith(\"https://www.instagram.com/p/\")]\n",
    "\n",
    "#print('Found ' + str(len(anchors)) + ' links to images')"
   ]
  },
  {
   "cell_type": "code",
   "execution_count": 101,
   "metadata": {},
   "outputs": [],
   "source": [
    "akun = []\n",
    "caption = []\n",
    "hashtag = []\n",
    "waktu = []\n",
    "for anc in anchors:\n",
    "    driver.get(anc)\n",
    "    source = driver.page_source\n",
    "    data = bs(source, 'html.parser')\n",
    "    body = data.find('body')\n",
    "    akun.append(body.find(\"div\", {\"class\": \"C4VMK\"}).find('h2').text)\n",
    "    caption.append(body.find(\"div\", {\"class\": \"C4VMK\"}).find(\"span\", {\"class\": \"\"}).text)\n",
    "    waktu.append(body.find(\"div\", {\"class\": \"C4VMK\"}).find(\"time\")['datetime'])\n",
    "    cap = body.find(\"div\", {\"class\": \"C4VMK\"}).find(\"span\", {\"class\": \"\"}).findAll('a')\n",
    "    tag = ' '\n",
    "    for i in cap:\n",
    "        tag = tag + i.text + ' '\n",
    "    hashtag.append(tag)"
   ]
  },
  {
   "cell_type": "code",
   "execution_count": 105,
   "metadata": {},
   "outputs": [],
   "source": [
    "import pandas as pd\n",
    "df = pd.DataFrame({\n",
    "    'alamat' : anchors,\n",
    "    'nama' : akun,\n",
    "    \"text\": caption,\n",
    "    'hashtag' : hashtag,\n",
    "    'waktu_post' : waktu\n",
    "})"
   ]
  },
  {
   "cell_type": "code",
   "execution_count": 106,
   "metadata": {},
   "outputs": [],
   "source": [
    "df.to_excel(\"output.xlsx\")"
   ]
  },
  {
   "cell_type": "code",
   "execution_count": null,
   "metadata": {},
   "outputs": [],
   "source": []
  }
 ],
 "metadata": {
  "kernelspec": {
   "display_name": "Python 3",
   "language": "python",
   "name": "python3"
  },
  "language_info": {
   "codemirror_mode": {
    "name": "ipython",
    "version": 3
   },
   "file_extension": ".py",
   "mimetype": "text/x-python",
   "name": "python",
   "nbconvert_exporter": "python",
   "pygments_lexer": "ipython3",
   "version": "3.7.3"
  },
  "varInspector": {
   "cols": {
    "lenName": 16,
    "lenType": 16,
    "lenVar": 40
   },
   "kernels_config": {
    "python": {
     "delete_cmd_postfix": "",
     "delete_cmd_prefix": "del ",
     "library": "var_list.py",
     "varRefreshCmd": "print(var_dic_list())"
    },
    "r": {
     "delete_cmd_postfix": ") ",
     "delete_cmd_prefix": "rm(",
     "library": "var_list.r",
     "varRefreshCmd": "cat(var_dic_list()) "
    }
   },
   "types_to_exclude": [
    "module",
    "function",
    "builtin_function_or_method",
    "instance",
    "_Feature"
   ],
   "window_display": false
  }
 },
 "nbformat": 4,
 "nbformat_minor": 2
}
